{
 "cells": [
  {
   "cell_type": "markdown",
   "id": "3b56e902-2a5b-4860-9888-a0958ffd3744",
   "metadata": {},
   "source": [
    "### Create the environment and jupyter kernet"
   ]
  },
  {
   "cell_type": "code",
   "execution_count": 1,
   "id": "2df32178-f409-42f8-bb7c-a8375ad16d39",
   "metadata": {},
   "outputs": [],
   "source": [
    "# !./setup_env.sh ../ env ../requirements.txt object_detection"
   ]
  },
  {
   "cell_type": "markdown",
   "id": "9c5c86fb-70a2-495a-9196-70d004fd44a7",
   "metadata": {},
   "source": [
    "Once it finished you will be able to select the kernel with the needed libraries."
   ]
  },
  {
   "cell_type": "markdown",
   "id": "3e8f961a-c600-4d09-85ea-3412d014ecf8",
   "metadata": {},
   "source": [
    "### Create the minio bucket"
   ]
  },
  {
   "cell_type": "code",
   "execution_count": 10,
   "id": "4154318e-1b09-4458-8055-f536a63e02f6",
   "metadata": {},
   "outputs": [],
   "source": [
    "import os\n",
    "from dotenv import load_dotenv\n",
    "\n",
    "# Carga las variables de entorno desde el archivo .env\n",
    "load_dotenv(\"../\")\n",
    "\n",
    "# Accede a las variables usando os.getenv()\n",
    "api_key = os.getenv(\"AWS_ACCESS_KEY_ID\")\n",
    "db_password = os.getenv(\"AWS_SECRET_ACCESS_KEY\")\n",
    "\n",
    "# Ahora puedes usar estas variables en tu código\n",
    "# print(f\"La clave de la API es: {api_key}\")\n",
    "# print(f\"La contraseña de la base de datos es: {db_password}\")"
   ]
  },
  {
   "cell_type": "code",
   "execution_count": 14,
   "id": "5dd88f0b-e794-45ec-b137-62fdbe818653",
   "metadata": {
    "jp-MarkdownHeadingCollapsed": true
   },
   "outputs": [
    {
     "name": "stdout",
     "output_type": "stream",
     "text": [
      "Attempting to connect to Minio and create bucket: object-creation-project2\n",
      "Using access key ID: minio\n",
      "Bucket 'object-creation-project2' created successfully or already exists.\n"
     ]
    }
   ],
   "source": [
    "comando_python = f\"python ./bucket_minio_creation.py object-creation-project {api_key} {db_password}\"\n",
    "!{comando_python}"
   ]
  },
  {
   "cell_type": "code",
   "execution_count": null,
   "id": "2a65ccfb-0e40-4711-9c1f-497091c4cab7",
   "metadata": {},
   "outputs": [],
   "source": []
  }
 ],
 "metadata": {
  "kernelspec": {
   "display_name": "Object detection project",
   "language": "python",
   "name": "env"
  },
  "language_info": {
   "codemirror_mode": {
    "name": "ipython",
    "version": 3
   },
   "file_extension": ".py",
   "mimetype": "text/x-python",
   "name": "python",
   "nbconvert_exporter": "python",
   "pygments_lexer": "ipython3",
   "version": "3.11.11"
  }
 },
 "nbformat": 4,
 "nbformat_minor": 5
}
