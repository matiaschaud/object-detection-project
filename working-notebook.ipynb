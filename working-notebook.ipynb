{
 "cells": [
  {
   "cell_type": "markdown",
   "id": "8825bce6-8f37-4f79-84ee-ea57e66e1d98",
   "metadata": {},
   "source": [
    "### Create the data preparation pipeline yaml"
   ]
  },
  {
   "cell_type": "code",
   "execution_count": 1,
   "id": "c95659f4-1d3f-4189-b576-f971e513c2a9",
   "metadata": {},
   "outputs": [
    {
     "name": "stdout",
     "output_type": "stream",
     "text": [
      "/opt/conda/lib/python3.11/site-packages/kfp/dsl/component_decorator.py:126: FutureWarning: The default base_image used by the @dsl.component decorator will switch from 'python:3.9' to 'python:3.10' on Oct 1, 2025. To ensure your existing components work with versions of the KFP SDK released after that date, you should provide an explicit base_image argument and ensure your component works as intended on Python 3.10.\n",
      "  return component_factory.create_component_from_func(\n"
     ]
    }
   ],
   "source": [
    "!python data_prep_pipeline.py"
   ]
  },
  {
   "cell_type": "code",
   "execution_count": 1,
   "id": "b8bc571a-99e2-4eae-a61f-e3cdc019066e",
   "metadata": {},
   "outputs": [
    {
     "name": "stderr",
     "output_type": "stream",
     "text": [
      "/home/jovyan/object-detection-project/env/lib/python3.11/site-packages/kfp/client/client.py:159: FutureWarning: This client only works with Kubeflow Pipeline v2.0.0-beta.2 and later versions.\n",
      "  warnings.warn(\n"
     ]
    }
   ],
   "source": [
    "import kfp\n",
    "from kfp.client import Client\n",
    "\n",
    "# Reemplaza 'http://<tu-host-de-kubeflow>/pipeline' con la URL real de tu instalación\n",
    "# Por ejemplo: 'http://192.168.1.100/pipeline' o 'https://my-kubeflow-domain.com/pipeline'\n",
    "host_url = 'http://istio-ingressgateway.istio-system.svc.cluster.local:8080/pipeline'\n",
    "\n",
    "# Crea una instancia del cliente de Kubeflow Pipelines especificando el host\n",
    "client = Client(host=host_url)\n"
   ]
  },
  {
   "cell_type": "code",
   "execution_count": 2,
   "id": "828ee2ee-dd10-41b6-afb8-e393eaf12dae",
   "metadata": {},
   "outputs": [
    {
     "name": "stdout",
     "output_type": "stream",
     "text": [
      "(503)\n",
      "Reason: Service Unavailable\n",
      "HTTP response headers: HTTPHeaderDict({'content-length': '91', 'content-type': 'text/plain', 'date': 'Sun, 17 Aug 2025 17:17:06 GMT', 'server': 'envoy'})\n",
      "HTTP response body: upstream connect error or disconnect/reset before headers. reset reason: connection timeout\n",
      "\n"
     ]
    }
   ],
   "source": [
    "# Define el nombre del experimento\n",
    "experiment_name = 'mi-primer-experimento'\n",
    "\n",
    "# Crea el experimento si no existe\n",
    "try:\n",
    "    experiment = client.create_experiment(name=experiment_name)\n",
    "    print(f'Experimento \"{experiment_name}\" creado con éxito.')\n",
    "except Exception as e:\n",
    "    print(e)\n",
    "    # print(f'Error al crear el experimento, probablemente ya existe. Usando el experimento existente.')\n",
    "    # experiment = client.get_experiment(experiment_name=experiment_name)"
   ]
  },
  {
   "cell_type": "code",
   "execution_count": null,
   "id": "fddd9554-dd5e-476e-a2fd-e72b5725444c",
   "metadata": {},
   "outputs": [],
   "source": []
  }
 ],
 "metadata": {
  "kernelspec": {
   "display_name": "object_detection",
   "language": "python",
   "name": "env"
  },
  "language_info": {
   "codemirror_mode": {
    "name": "ipython",
    "version": 3
   },
   "file_extension": ".py",
   "mimetype": "text/x-python",
   "name": "python",
   "nbconvert_exporter": "python",
   "pygments_lexer": "ipython3",
   "version": "3.11.11"
  }
 },
 "nbformat": 4,
 "nbformat_minor": 5
}
